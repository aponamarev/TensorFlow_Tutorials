{
 "cells": [
  {
   "cell_type": "markdown",
   "metadata": {},
   "source": [
    "# This tutorial is designed to illustrate the methods for reading and handling variables in TensorFlow\n",
    "\n",
    "\n",
    "The tutorial describes the procedures for:\n",
    "1. Creating variables\n",
    "2. Reading variables that exist in the environment\n",
    "3. Assigning values to a variable "
   ]
  },
  {
   "cell_type": "code",
   "execution_count": 5,
   "metadata": {
    "collapsed": true
   },
   "outputs": [],
   "source": [
    "import tensorflow as tf\n",
    "import os"
   ]
  },
  {
   "cell_type": "markdown",
   "metadata": {},
   "source": [
    "## Create some random variables as an example.\n",
    "\n",
    "Also, reset the computational graph to ensure that no prior variables remain in the environment. To make it slightly more interesting, let's place them into a scope."
   ]
  },
  {
   "cell_type": "code",
   "execution_count": 6,
   "metadata": {
    "collapsed": false
   },
   "outputs": [
    {
     "name": "stdout",
     "output_type": "stream",
     "text": [
      "random_variables/v1: 0.0\n",
      "random_variables/v2: 0.0\n",
      "random_variables/v3: 0.0\n",
      "random_variables/v4: 0.0\n",
      "random_variables/v5: 0.0\n",
      "random_variables/v6: 0.0\n",
      "random_variables/v7: 0.0\n",
      "random_variables/v8: 0.0\n",
      "random_variables/v9: 0.0\n"
     ]
    }
   ],
   "source": [
    "tf.reset_default_graph()\n",
    "with tf.variable_scope('random_variables') as scope:\n",
    "    var_list = [tf.Variable(initial_value=0.0, dtype=tf.float32, name=\"v{}\".format(i)) for i in range(1,10)]\n",
    "    \n",
    "with tf.Session():\n",
    "    tf.global_variables_initializer().run()\n",
    "    for v in var_list:\n",
    "        print v.op.name + \":\", v.eval()"
   ]
  },
  {
   "cell_type": "markdown",
   "metadata": {},
   "source": [
    "## Read variables from the global environment\n",
    "##### tf.global_variables() - This function became available in version 1.0 (Version 0.11 did not have this funcitonality)\n",
    "https://www.tensorflow.org/api_docs/python/tf/global_variables\n",
    "\n",
    "This function returns global variables, and returned variables are not initialized. In order to read values from those variables, you must initialize it first.\n",
    "\n",
    "Global variables are those that are shared across machines in a distributed environment."
   ]
  },
  {
   "cell_type": "code",
   "execution_count": 7,
   "metadata": {
    "collapsed": false
   },
   "outputs": [
    {
     "name": "stdout",
     "output_type": "stream",
     "text": [
      "From global list:\n",
      "random_variables/v1: 0.0\n",
      "random_variables/v2: 0.0\n",
      "random_variables/v3: 0.0\n",
      "random_variables/v4: 0.0\n",
      "random_variables/v5: 0.0\n",
      "random_variables/v6: 0.0\n",
      "random_variables/v7: 0.0\n",
      "random_variables/v8: 0.0\n",
      "random_variables/v9: 0.0\n"
     ]
    }
   ],
   "source": [
    "glob_var_list = tf.global_variables()\n",
    "\n",
    "with tf.Session():\n",
    "    tf.global_variables_initializer().run()\n",
    "    print \"From global list:\"\n",
    "    for gl_var in glob_var_list:\n",
    "        print gl_var.op.name+\":\", gl_var.eval()"
   ]
  },
  {
   "cell_type": "markdown",
   "metadata": {},
   "source": [
    "## Assign new values to the variable\n",
    "\n",
    "##### tf.assign(ref, value, validate_shape=None, use_locking=None, name=None) - Update 'ref' by assigning 'value' to it. \n",
    "https://www.tensorflow.org/api_docs/python/tf/assign\n",
    "\n",
    "This operation outputs \"ref\" after the assignment is done. This makes it easier to chain operations that need to use the reset value.\n",
    "\n",
    "Again, for variables that are not assigned, you must initilize them before you use them."
   ]
  },
  {
   "cell_type": "code",
   "execution_count": 8,
   "metadata": {
    "collapsed": false
   },
   "outputs": [
    {
     "name": "stdout",
     "output_type": "stream",
     "text": [
      "exvar: with the new name -  Assign: 1.2\n",
      "random_variables/v1: 0.0\n",
      "random_variables/v2: 0.0\n",
      "random_variables/v3: 1.2\n",
      "random_variables/v4: 0.0\n",
      "random_variables/v5: 0.0\n",
      "random_variables/v6: 0.0\n",
      "random_variables/v7: 0.0\n",
      "random_variables/v8: 0.0\n",
      "random_variables/v9: 0.0\n"
     ]
    }
   ],
   "source": [
    "exvar = var_list[2]\n",
    "exvar = exvar.assign(value=1.2)\n",
    "with tf.Session():\n",
    "    tf.global_variables_initializer().run()\n",
    "    print \"exvar: with the new name - \", exvar.op.name + \":\", exvar.eval()\n",
    "    for var in var_list:\n",
    "        print var.op.name+\":\", var.eval()"
   ]
  },
  {
   "cell_type": "markdown",
   "metadata": {},
   "source": [
    "#### tf.assign_add(ref, value, use_locking=None, name=None) - adding 'value' to the  variable\n",
    "https://www.tensorflow.org/api_docs/python/tf/assign_add\n",
    "\n",
    "#### tf.assign_sub(ref, value, use_locking=None, name=None) - subtracting 'value' from the variable\n",
    "https://www.tensorflow.org/api_docs/python/tf/assign_sub\n",
    "\n",
    "*Note:* both of the ops use tensors"
   ]
  },
  {
   "cell_type": "code",
   "execution_count": 9,
   "metadata": {
    "collapsed": false
   },
   "outputs": [
    {
     "name": "stdout",
     "output_type": "stream",
     "text": [
      "exvar_add: with the new name -  AssignAdd: 1.5\n",
      "exvar_sub: with the new name -  AssignSub: -3.0\n",
      "random_variables/v1: 0.0\n",
      "random_variables/v2: 1.5\n",
      "random_variables/v3: 0.0\n",
      "random_variables/v4: -3.0\n",
      "random_variables/v5: 0.0\n",
      "random_variables/v6: 0.0\n",
      "random_variables/v7: 0.0\n",
      "random_variables/v8: 0.0\n",
      "random_variables/v9: 0.0\n"
     ]
    }
   ],
   "source": [
    "sub_value = tf.constant(3.0)\n",
    "add_value = tf.constant(1.5)\n",
    "\n",
    "exvar_add = var_list[1]\n",
    "exvar_add = exvar_add.assign_add(add_value)\n",
    "exvar_sub = var_list[3]\n",
    "exvar_sub = exvar_sub.assign_sub(sub_value)\n",
    "with tf.Session():\n",
    "    tf.global_variables_initializer().run()\n",
    "    print \"exvar_add: with the new name - \", exvar_add.op.name + \":\", exvar_add.eval()\n",
    "    print \"exvar_sub: with the new name - \", exvar_sub.op.name + \":\", exvar_sub.eval()\n",
    "    for var in var_list:\n",
    "        print var.op.name+\":\", var.eval()"
   ]
  }
 ],
 "metadata": {
  "kernelspec": {
   "display_name": "Python 2",
   "language": "python",
   "name": "python2"
  },
  "language_info": {
   "codemirror_mode": {
    "name": "ipython",
    "version": 2
   },
   "file_extension": ".py",
   "mimetype": "text/x-python",
   "name": "python",
   "nbconvert_exporter": "python",
   "pygments_lexer": "ipython2",
   "version": "2.7.10"
  }
 },
 "nbformat": 4,
 "nbformat_minor": 2
}
