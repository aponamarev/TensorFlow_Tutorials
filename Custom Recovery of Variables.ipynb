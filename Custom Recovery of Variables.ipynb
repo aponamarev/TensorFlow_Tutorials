{
 "cells": [
  {
   "cell_type": "markdown",
   "metadata": {},
   "source": [
    "# This tutorial is designed to illustrate methods for reading and handling variables in TensorFlow\n",
    "\n",
    "1. Read variables that already exist in the environment."
   ]
  },
  {
   "cell_type": "code",
   "execution_count": 1,
   "metadata": {
    "collapsed": true
   },
   "outputs": [],
   "source": [
    "import tensorflow as tf\n",
    "import os\n",
    "\n",
    "sess = tf.InteractiveSession()"
   ]
  },
  {
   "cell_type": "markdown",
   "metadata": {},
   "source": [
    "Create some random variables as an example. Also reset the computational graph to make sure that no prior variables remained in the environment. To make it slightly more interesting let's plance them into a scope."
   ]
  },
  {
   "cell_type": "code",
   "execution_count": 7,
   "metadata": {
    "collapsed": false
   },
   "outputs": [
    {
     "name": "stdout",
     "output_type": "stream",
     "text": [
      "random_variables/v1\n",
      "random_variables/v2\n",
      "random_variables/v3\n",
      "random_variables/v4\n",
      "random_variables/v5\n",
      "random_variables/v6\n",
      "random_variables/v7\n",
      "random_variables/v8\n",
      "random_variables/v9\n"
     ]
    }
   ],
   "source": [
    "tf.reset_default_graph()\n",
    "with tf.variable_scope('random_variables') as scope:\n",
    "    var_list = [tf.Variable(initial_value=0.0, dtype=tf.float32, name=\"v{}\".format(i)) for i in range(1,10)]\n",
    "\n",
    "for v in var_list:\n",
    "    print v.op.name"
   ]
  },
  {
   "cell_type": "markdown",
   "metadata": {},
   "source": [
    "## Read variables from the global environment\n",
    "\n",
    "tf.global_variables() - This function became available in version 1.0 (Version 0.11 did not have this funcitonality)"
   ]
  },
  {
   "cell_type": "code",
   "execution_count": 6,
   "metadata": {
    "collapsed": false
   },
   "outputs": [
    {
     "name": "stdout",
     "output_type": "stream",
     "text": [
      "random_variables/v1\n",
      "random_variables/v2\n",
      "random_variables/v3\n",
      "random_variables/v4\n",
      "random_variables/v5\n",
      "random_variables/v6\n",
      "random_variables/v7\n",
      "random_variables/v8\n",
      "random_variables/v9\n"
     ]
    }
   ],
   "source": [
    "glob_var_list = tf.global_variables()\n",
    "\n",
    "for gl_var in glob_var_list:\n",
    "    print gl_var.op.name"
   ]
  },
  {
   "cell_type": "code",
   "execution_count": null,
   "metadata": {
    "collapsed": true
   },
   "outputs": [],
   "source": []
  },
  {
   "cell_type": "code",
   "execution_count": null,
   "metadata": {
    "collapsed": true
   },
   "outputs": [],
   "source": []
  }
 ],
 "metadata": {
  "kernelspec": {
   "display_name": "Python 2",
   "language": "python",
   "name": "python2"
  },
  "language_info": {
   "codemirror_mode": {
    "name": "ipython",
    "version": 2
   },
   "file_extension": ".py",
   "mimetype": "text/x-python",
   "name": "python",
   "nbconvert_exporter": "python",
   "pygments_lexer": "ipython2",
   "version": "2.7.10"
  }
 },
 "nbformat": 4,
 "nbformat_minor": 2
}
