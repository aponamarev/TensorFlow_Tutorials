{
 "cells": [
  {
   "cell_type": "code",
   "execution_count": 11,
   "metadata": {
    "collapsed": true
   },
   "outputs": [],
   "source": [
    "import tensorflow as tf"
   ]
  },
  {
   "cell_type": "code",
   "execution_count": 12,
   "metadata": {
    "collapsed": false
   },
   "outputs": [
    {
     "name": "stdout",
     "output_type": "stream",
     "text": [
      "['/Users/aponamaryov/Downloads/coco_train_2014/images/COCO_train2014_000000000009.jpg', '/Users/aponamaryov/Downloads/coco_train_2014/images/COCO_train2014_000000000025.jpg', '/Users/aponamaryov/Downloads/coco_train_2014/images/COCO_train2014_000000000030.jpg', '/Users/aponamaryov/Downloads/coco_train_2014/images/COCO_train2014_000000000034.jpg', '/Users/aponamaryov/Downloads/coco_train_2014/images/COCO_train2014_000000000036.jpg', '/Users/aponamaryov/Downloads/coco_train_2014/images/COCO_train2014_000000000049.jpg', '/Users/aponamaryov/Downloads/coco_train_2014/images/COCO_train2014_000000000061.jpg', '/Users/aponamaryov/Downloads/coco_train_2014/images/COCO_train2014_000000000064.jpg', '/Users/aponamaryov/Downloads/coco_train_2014/images/COCO_train2014_000000000071.jpg', '/Users/aponamaryov/Downloads/coco_train_2014/images/COCO_train2014_000000000072.jpg']\n"
     ]
    }
   ],
   "source": [
    "# Create a list of image files\n",
    "file_names = [\n",
    "    '/Users/aponamaryov/Downloads/coco_train_2014/images/COCO_train2014_000000000009.jpg',\n",
    "    '/Users/aponamaryov/Downloads/coco_train_2014/images/COCO_train2014_000000000025.jpg',\n",
    "    '/Users/aponamaryov/Downloads/coco_train_2014/images/COCO_train2014_000000000030.jpg',\n",
    "    '/Users/aponamaryov/Downloads/coco_train_2014/images/COCO_train2014_000000000034.jpg',\n",
    "    '/Users/aponamaryov/Downloads/coco_train_2014/images/COCO_train2014_000000000036.jpg',\n",
    "    '/Users/aponamaryov/Downloads/coco_train_2014/images/COCO_train2014_000000000049.jpg',\n",
    "    '/Users/aponamaryov/Downloads/coco_train_2014/images/COCO_train2014_000000000061.jpg',\n",
    "    '/Users/aponamaryov/Downloads/coco_train_2014/images/COCO_train2014_000000000064.jpg',\n",
    "    '/Users/aponamaryov/Downloads/coco_train_2014/images/COCO_train2014_000000000071.jpg',\n",
    "    '/Users/aponamaryov/Downloads/coco_train_2014/images/COCO_train2014_000000000072.jpg'\n",
    "]\n",
    "print file_names"
   ]
  },
  {
   "cell_type": "code",
   "execution_count": 13,
   "metadata": {
    "collapsed": false
   },
   "outputs": [
    {
     "name": "stdout",
     "output_type": "stream",
     "text": [
      "Tensor(\"Shape_2:0\", shape=(3,), dtype=int32)\n"
     ]
    }
   ],
   "source": [
    "# create queue to read files\n",
    "file_queue = tf.train.string_input_producer(file_names)\n",
    "\n",
    "# initialize a reader that will read the whole file as one returned_file_path\n",
    "reader = tf.WholeFileReader() # this reader doesn't really have any paramerter for initialization (outside of an optional name)\n",
    "returned_file_path, im_raw_data = reader.read(file_queue)\n",
    "\n",
    "# decode raw image data into an actual image\n",
    "# note: don't use tf.image.decode_image. tf__version__==1.0.0 returns a tensor without dimensions....\n",
    "im_tensor = tf.image.decode_jpeg(im_raw_data, channels=3)# Don't use -> tf.image.decode_image(im_raw_data, channels=3)\n",
    "print tf.shape(im_tensor)\n",
    "im_resized = tf.image.resize_images(im_tensor, size=(640,640))"
   ]
  },
  {
   "cell_type": "code",
   "execution_count": 14,
   "metadata": {
    "collapsed": false
   },
   "outputs": [],
   "source": [
    "# read image in a batch\n",
    "images, paths = tf.train.batch([im_resized, returned_file_path], batch_size=4, num_threads=2, capacity=10)"
   ]
  },
  {
   "cell_type": "code",
   "execution_count": 15,
   "metadata": {
    "collapsed": false
   },
   "outputs": [
    {
     "name": "stdout",
     "output_type": "stream",
     "text": [
      "(4, 640, 640, 3)\n",
      "[ '/Users/aponamaryov/Downloads/coco_train_2014/images/COCO_train2014_000000000036.jpg'\n",
      " '/Users/aponamaryov/Downloads/coco_train_2014/images/COCO_train2014_000000000064.jpg'\n",
      " '/Users/aponamaryov/Downloads/coco_train_2014/images/COCO_train2014_000000000009.jpg'\n",
      " '/Users/aponamaryov/Downloads/coco_train_2014/images/COCO_train2014_000000000072.jpg']\n",
      "successful execution\n"
     ]
    }
   ],
   "source": [
    "with tf.Session() as sess:\n",
    "    # Create a coordinator that will run the queue\n",
    "    coord = tf.train.Coordinator()\n",
    "    # start the queue runner with the coordinator\n",
    "    threads = tf.train.start_queue_runners(coord=coord)\n",
    "    \n",
    "    tf.train.start_queue_runners()\n",
    "    returned_value = images.eval()\n",
    "    print returned_value.shape\n",
    "    key_val_result = paths.eval()\n",
    "    print key_val_result\n",
    "    # stop the coordinator\n",
    "    coord.request_stop()\n",
    "    # merge the result of all the threads\n",
    "    coord.join(threads)\n",
    "    \n",
    "print \"successful execution\""
   ]
  }
 ],
 "metadata": {
  "kernelspec": {
   "display_name": "Python 2",
   "language": "python",
   "name": "python2"
  },
  "language_info": {
   "codemirror_mode": {
    "name": "ipython",
    "version": 2
   },
   "file_extension": ".py",
   "mimetype": "text/x-python",
   "name": "python",
   "nbconvert_exporter": "python",
   "pygments_lexer": "ipython2",
   "version": "2.7.10"
  }
 },
 "nbformat": 4,
 "nbformat_minor": 2
}
