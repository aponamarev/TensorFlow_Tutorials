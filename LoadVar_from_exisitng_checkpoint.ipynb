{
 "cells": [
  {
   "cell_type": "markdown",
   "metadata": {},
   "source": [
    "# Load Variables from Existing Checkpoints\n",
    "#### without recreating original computational graph"
   ]
  },
  {
   "cell_type": "code",
   "execution_count": 2,
   "metadata": {
    "collapsed": true
   },
   "outputs": [],
   "source": [
    "import tensorflow as tf\n",
    "import os"
   ]
  },
  {
   "cell_type": "markdown",
   "metadata": {},
   "source": [
    "##  CheckpointReader\n",
    "tf.train.NewCheckpointReader is a nifty  method that creates a CheckpointReader object. CheckpointReader has several very useful methods:\n",
    "* get_variable_to_shape_map() - provides a dictionary with variable names and shapes\n",
    "    * debug_string() - provides a string containing all variables stored in the checkpoint \n",
    "* has_tensor(var_name) - allows to check whether the variable exists in the checkpoint\n",
    "* get_tensor(var_name) - returns a tensor for the variable name\n",
    "\n",
    "For illustration, I will define a function that will check the validity of the path and will load the checkpoint reader for you. "
   ]
  },
  {
   "cell_type": "code",
   "execution_count": 3,
   "metadata": {
    "collapsed": true
   },
   "outputs": [],
   "source": [
    "def load_reader(path):\n",
    "    assert os.path.exists(path), \"Provided incorrect path to the file. {} doesn't exist\".format(path)\n",
    "    return tf.train.NewCheckpointReader(path)"
   ]
  },
  {
   "cell_type": "code",
   "execution_count": 34,
   "metadata": {
    "collapsed": true
   },
   "outputs": [],
   "source": [
    "your_path = 'logs/squeezeDet1024x1024/train/model.ckpt-0'\n",
    "reader = load_reader(your_path)"
   ]
  },
  {
   "cell_type": "markdown",
   "metadata": {},
   "source": [
    "### - reader.debug_string() returns a sting containing the following:\n",
    "* variable name\n",
    "* data type\n",
    "* tensor shape\n",
    "\n",
    "The elements are separated by a space(' '). You can use this debu string to create a list of varible names like this:"
   ]
  },
  {
   "cell_type": "code",
   "execution_count": 53,
   "metadata": {
    "collapsed": false
   },
   "outputs": [
    {
     "name": "stdout",
     "output_type": "stream",
     "text": [
      "['iou', 'fire9/squeeze1x1/kernels', 'fire9/squeeze1x1/biases', 'fire9/expand3x3/kernels/Momentum']\n",
      "['[10,36864]', '[1,1,512,64]', '[64]', '[3,3,64,256]']\n"
     ]
    }
   ],
   "source": [
    "all_var_descriptions = reader.debug_string().split()\n",
    "var_names, var_shapes = all_var[::3], all_var[2::3]\n",
    "print var_names[:4]\n",
    "print var_shapes[:4]"
   ]
  },
  {
   "cell_type": "markdown",
   "metadata": {},
   "source": [
    "### However, a far better method for the same job is reader.get_variable_to_shape_map()\n",
    "### - reader.get_variable_to_shape_map()  returns a dictionary containing names of all variables and shapes\n",
    "Variables provided as dictionary keys and shapes as values"
   ]
  },
  {
   "cell_type": "code",
   "execution_count": 66,
   "metadata": {
    "collapsed": false
   },
   "outputs": [
    {
     "name": "stdout",
     "output_type": "stream",
     "text": [
      "fire9/squeeze1x1/kernels: [1, 1, 512, 64]\n"
     ]
    }
   ],
   "source": [
    "saved_shapes = reader.get_variable_to_shape_map()\n",
    "print 'fire9/squeeze1x1/kernels:', saved_shapes['fire9/squeeze1x1/kernels']"
   ]
  },
  {
   "cell_type": "markdown",
   "metadata": {},
   "source": [
    "### - reader.has_tensor(var_name) returns bool\n",
    "It is a convinience method that allows you to check whether the variable in question exists in the ckeckpoint"
   ]
  },
  {
   "cell_type": "code",
   "execution_count": 51,
   "metadata": {
    "collapsed": false
   },
   "outputs": [
    {
     "name": "stdout",
     "output_type": "stream",
     "text": [
      "fire8/squeeze1x1/kernels/Momentum: True\n",
      "fire9/expand3x3/kernels: True\n",
      "iou: True\n",
      "fire9/expand3x3/biases: True\n",
      "fire9/expand1x1/kernels: True\n",
      "fire9/expand3x3/kernels/Momentum: True\n",
      "fire9/expand1x1/biases/Momentum: True\n",
      "fire9/squeeze1x1/biases: True\n",
      "fire9/expand1x1/kernels/Momentum: True\n",
      "fire9/squeeze1x1/kernels: True\n"
     ]
    }
   ],
   "source": [
    "names_that_exit = {var_name: reader.has_tensor(var_name) for var_name in var_names[:10]}\n",
    "for key in names_that_exit:\n",
    "    print key+':', names_that_exit[key]"
   ]
  },
  {
   "cell_type": "markdown",
   "metadata": {},
   "source": [
    "### - reader.get_tensor(tensor_name): returns a NumPy array containing the the tensor values from the checkpoint.\n",
    "The normal use would be to recover a tensor first and then initialize your own variable with the recovered tensor afterwards:"
   ]
  },
  {
   "cell_type": "code",
   "execution_count": 60,
   "metadata": {
    "collapsed": true
   },
   "outputs": [],
   "source": [
    "def recover_var(reader, var_name):\n",
    "    recovered_var = 'var to be recovered'\n",
    "    try:\n",
    "        recovered_var = reader.get_tensor(var_name)\n",
    "    except:\n",
    "        assert reader.has_tensor(var_name),\\\n",
    "        \"{} variable doesn't exist in the check point. Please check the variable name\".format(var_name)\n",
    "    return recovered_var    "
   ]
  },
  {
   "cell_type": "code",
   "execution_count": 67,
   "metadata": {
    "collapsed": false
   },
   "outputs": [
    {
     "name": "stdout",
     "output_type": "stream",
     "text": [
      "Recovered variable has the following shape: \n",
      "(3, 3, 3, 64)\n",
      "New variable will be initialized with recovered values and the following shape: \n",
      "(3, 3, 3, 64)\n"
     ]
    }
   ],
   "source": [
    "checkpoint_var = recover_var(reader, 'conv1/kernels')\n",
    "print \"Recovered variable has the following shape: \\n\", checkpoint_var.shape\n",
    "new_var = tf.Variable(initial_value=checkpoint_var, name=\"new_conv1\")\n",
    "print \"New variable will be initialized with recovered values and the following shape: \\n\", new_var.get_shape()"
   ]
  }
 ],
 "metadata": {
  "kernelspec": {
   "display_name": "Python 2",
   "language": "python",
   "name": "python2"
  },
  "language_info": {
   "codemirror_mode": {
    "name": "ipython",
    "version": 2
   },
   "file_extension": ".py",
   "mimetype": "text/x-python",
   "name": "python",
   "nbconvert_exporter": "python",
   "pygments_lexer": "ipython2",
   "version": "2.7.10"
  }
 },
 "nbformat": 4,
 "nbformat_minor": 2
}
